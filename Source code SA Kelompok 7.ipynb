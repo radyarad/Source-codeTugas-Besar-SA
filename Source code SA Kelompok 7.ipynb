{
  "nbformat": 4,
  "nbformat_minor": 0,
  "metadata": {
    "colab": {
      "provenance": []
    },
    "kernelspec": {
      "name": "python3",
      "display_name": "Python 3"
    },
    "language_info": {
      "name": "python"
    }
  },
  "cells": [
    {
      "cell_type": "markdown",
      "source": [
        "# Ini Brute Force"
      ],
      "metadata": {
        "id": "zwPY-ifAJsYS"
      }
    },
    {
      "cell_type": "code",
      "execution_count": null,
      "metadata": {
        "colab": {
          "base_uri": "https://localhost:8080/"
        },
        "id": "KsQ0jUKIIVid",
        "outputId": "8d4b9451-7012-4840-feef-32c294a020b7"
      },
      "outputs": [
        {
          "output_type": "stream",
          "name": "stdout",
          "text": [
            "==== Problem ====\n",
            "- 9 - 2 - - - - -\n",
            "- - - 1 - - - 9 -\n",
            "1 - 2 - 7 - - - -\n",
            "3 - - - 6 - - 1 -\n",
            "4 - - - 3 - - 6 -\n",
            "- - 6 - 8 - - - 3\n",
            "6 5 - - 9 - 8 - -\n",
            "- 2 - - - - - - 7\n",
            "- - - - - 7 - - 6\n",
            "\n",
            "=== Solution ====\n",
            "7 9 3 2 5 6 1 8 4\n",
            "5 6 8 1 4 3 7 9 2\n",
            "1 4 2 8 7 9 6 3 5\n",
            "3 7 9 4 6 2 5 1 8\n",
            "4 8 5 7 3 1 2 6 9\n",
            "2 1 6 9 8 5 4 7 3\n",
            "6 5 7 3 9 4 8 2 1\n",
            "9 2 4 6 1 8 3 5 7\n",
            "8 3 1 5 2 7 9 4 6\n",
            "Runtime: 5.5644 seconds\n"
          ]
        }
      ],
      "source": [
        "import time\n",
        "\n",
        "def solve(s):\n",
        "    try:\n",
        "        i = s.index(0)\n",
        "    except ValueError:\n",
        "        return s\n",
        "\n",
        "    c = [s[j] for j in range(81)\n",
        "         if not ((i-j)%9 * (i//9^j//9) * (i//27^j//27 | (i%9//3^j%9//3)))]\n",
        "\n",
        "    for v in range(1, 10):\n",
        "        if v not in c:\n",
        "            r = solve(s[:i] + [v] + s[i+1:])\n",
        "            if r is not None:\n",
        "                return r\n",
        "\n",
        "if __name__ == '__main__':\n",
        "    class Sudoku(list):\n",
        "        '''Sudokus with nicer IO'''\n",
        "        def __init__(self, content):\n",
        "            super().__init__([int(i) for i in content.split()] if isinstance(content, str) else content)\n",
        "        def __str__(self):\n",
        "            return '\\n'.join(\n",
        "                ' '.join([(str(j) if j != 0 else '-') for j in self[i*9:(i+1)*9]]) for i in range(9)\n",
        "            )\n",
        "\n",
        "    problem = Sudoku('''\n",
        "    0 9 0 2 0 0 0 0 0\n",
        "    0 0 0 1 0 0 0 9 0\n",
        "    1 0 2 0 7 0 0 0 0\n",
        "    3 0 0 0 6 0 0 1 0\n",
        "    4 0 0 0 3 0 0 6 0\n",
        "    0 0 6 0 8 0 0 0 3\n",
        "    6 5 0 0 9 0 8 0 0\n",
        "    0 2 0 0 0 0 0 0 7\n",
        "    0 0 0 0 0 7 0 0 6\n",
        "    ''')\n",
        "\n",
        "    start_time = time.time()  # Start time\n",
        "    result = Sudoku(solve(problem))\n",
        "    end_time = time.time()  # End time\n",
        "\n",
        "    print('==== Problem ====\\n{0}\\n\\n=== Solution ====\\n{1}'.format(problem, result))\n",
        "    print(f\"Runtime: {end_time - start_time:.4f} seconds\")  # Print runtime\n"
      ]
    },
    {
      "cell_type": "markdown",
      "source": [
        "# Ini Bracktracking"
      ],
      "metadata": {
        "id": "1JpCa0qRKcQJ"
      }
    },
    {
      "cell_type": "code",
      "source": [
        "import time  # Impor modul time\n",
        "\n",
        "# Fungsi Utilitas untuk mencetak Grid\n",
        "def cetak_grid(arr):\n",
        "    for i in range(9):\n",
        "        for j in range(9):\n",
        "            print(arr[i][j], end=\" \")\n",
        "        print()\n",
        "\n",
        "# Fungsi untuk Menemukan entri di Grid yang masih belum digunakan\n",
        "def temukan_lokasi_kosong(arr, l):\n",
        "    for baris in range(9):\n",
        "        for kolom in range(9):\n",
        "            if arr[baris][kolom] == 0:\n",
        "                l[0] = baris\n",
        "                l[1] = kolom\n",
        "                return True\n",
        "    return False\n",
        "\n",
        "# Mengembalikan boolean yang menunjukkan apakah ada entri yang ditetapkan di baris tertentu yang cocok dengan nomor yang diberikan\n",
        "def digunakan_di_baris(arr, baris, num):\n",
        "    for i in range(9):\n",
        "        if arr[baris][i] == num:\n",
        "            return True\n",
        "    return False\n",
        "\n",
        "# Mengembalikan boolean yang menunjukkan apakah ada entri yang ditetapkan di kolom tertentu yang cocok dengan nomor yang diberikan\n",
        "def digunakan_di_kolom(arr, kolom, num):\n",
        "    for i in range(9):\n",
        "        if arr[i][kolom] == num:\n",
        "            return True\n",
        "    return False\n",
        "\n",
        "# Mengembalikan boolean yang menunjukkan apakah ada entri yang ditetapkan di dalam kotak 3x3 tertentu yang cocok dengan nomor yang diberikan\n",
        "def digunakan_di_kotak(arr, baris, kolom, num):\n",
        "    for i in range(3):\n",
        "        for j in range(3):\n",
        "            if arr[i + baris][j + kolom] == num:\n",
        "                return True\n",
        "    return False\n",
        "\n",
        "# Memeriksa apakah sah untuk menetapkan num ke baris, kolom yang diberikan\n",
        "def periksa_lokasi_aman(arr, baris, kolom, num):\n",
        "    return (not digunakan_di_baris(arr, baris, num) and\n",
        "            not digunakan_di_kolom(arr, kolom, num) and\n",
        "            not digunakan_di_kotak(arr, baris - baris % 3, kolom - kolom % 3, num))\n",
        "\n",
        "# Mengambil grid yang terisi sebagian dan mencoba menetapkan nilai ke semua lokasi yang tidak ditetapkan untuk memenuhi persyaratan\n",
        "def selesaikan_sudoku(arr):\n",
        "    l = [0, 0]\n",
        "    if not temukan_lokasi_kosong(arr, l):\n",
        "        return True\n",
        "    baris, kolom = l[0], l[1]\n",
        "    for num in range(1, 10):\n",
        "        if periksa_lokasi_aman(arr, baris, kolom, num):\n",
        "            arr[baris][kolom] = num\n",
        "            if selesaikan_sudoku(arr):\n",
        "                return True\n",
        "            arr[baris][kolom] = 0\n",
        "    return False\n",
        "\n",
        "# Fungsi utama penggerak untuk menguji fungsi di atas\n",
        "if __name__ == \"__main__\":\n",
        "    grid = [[0 for x in range(9)] for y in range(9)]\n",
        "    grid = [[3, 0, 6, 5, 0, 8, 4, 0, 0],\n",
        "            [5, 2, 0, 0, 0, 0, 0, 0, 0],\n",
        "            [0, 8, 7, 0, 0, 0, 0, 3, 1],\n",
        "            [0, 0, 3, 0, 1, 0, 0, 8, 0],\n",
        "            [9, 0, 0, 8, 6, 3, 0, 0, 5],\n",
        "            [0, 5, 0, 0, 9, 0, 6, 0, 0],\n",
        "            [1, 3, 0, 0, 0, 0, 2, 5, 0],\n",
        "            [0, 0, 0, 0, 0, 0, 0, 7, 4],\n",
        "            [0, 0, 5, 2, 0, 6, 3, 0, 0]]\n",
        "\n",
        "    # Mulai pengukuran waktu\n",
        "    waktu_mulai = time.process_time()\n",
        "\n",
        "    if selesaikan_sudoku(grid):\n",
        "        cetak_grid(grid)\n",
        "    else:\n",
        "        print(\"Tidak ada solusi yang ditemukan\")\n",
        "\n",
        "    # Akhir pengukuran waktu dan cetak runtime\n",
        "    waktu_selesai = time.process_time()\n",
        "    print(f\"Runtime: {waktu_selesai - waktu_mulai:.4f} detik\")\n"
      ],
      "metadata": {
        "colab": {
          "base_uri": "https://localhost:8080/"
        },
        "id": "VNollol8Kgbl",
        "outputId": "4f892d9c-7ce2-42dc-e2e1-85a44216fb73"
      },
      "execution_count": null,
      "outputs": [
        {
          "output_type": "stream",
          "name": "stdout",
          "text": [
            "3 1 6 5 7 8 4 9 2 \n",
            "5 2 9 1 3 4 7 6 8 \n",
            "4 8 7 6 2 9 5 3 1 \n",
            "2 6 3 4 1 5 9 8 7 \n",
            "9 7 4 8 6 3 1 2 5 \n",
            "8 5 1 7 9 2 6 4 3 \n",
            "1 3 8 9 4 7 2 5 6 \n",
            "6 9 2 3 5 1 8 7 4 \n",
            "7 4 5 2 8 6 3 1 9 \n",
            "Runtime: 0.0347 detik\n"
          ]
        }
      ]
    }
  ]
}